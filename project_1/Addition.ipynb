{
 "cells": [
  {
   "cell_type": "code",
   "execution_count": null,
   "id": "f6c88112",
   "metadata": {},
   "outputs": [],
   "source": [
    "https://github.com/Vladis-GitHub/sf_data_sciense/blob/main/project_1/pics/fig1_1.html\n",
    "\n",
    "https://github.com/Vladis-GitHub/sf_data_sciense/blob/main/project_1/pics/fig1_2.html\n",
    "\n",
    "https://github.com/Vladis-GitHub/sf_data_sciense/blob/main/project_1/pics/fig1_3.html\n",
    "\n",
    "(https://github.com/Vladis-GitHub/sf_data_sciense/blob/main/project_1/pics/fig1_32___%20.html)\n",
    "\n",
    "https://github.com/Vladis-GitHub/sf_data_sciense/blob/main/project_1/pics/fig1_4.html\n",
    "\n",
    "https://github.com/Vladis-GitHub/sf_data_sciense/blob/main/project_1/pics/fig1_5.html\n",
    "\n",
    "https://github.com/Vladis-GitHub/sf_data_sciense/blob/main/project_1/pics/fig1_6.html\n",
    "\n",
    "https://github.com/Vladis-GitHub/sf_data_sciense/blob/main/project_1/pics/fig1_7.html\n",
    "\n",
    "https://github.com/Vladis-GitHub/sf_data_sciense/blob/main/project_1/pics/fig1_8.html\n",
    "\n",
    "https://github.com/Vladis-GitHub/sf_data_sciense/blob/main/project_1/pics/fig1_9.html\n",
    "\n",
    "https://github.com/Vladis-GitHub/sf_data_sciense/blob/main/project_1/pics/fig1_10.html"
   ]
  }
 ],
 "metadata": {
  "kernelspec": {
   "display_name": "Python 3",
   "language": "python",
   "name": "python3"
  },
  "language_info": {
   "codemirror_mode": {
    "name": "ipython",
    "version": 3
   },
   "file_extension": ".py",
   "mimetype": "text/x-python",
   "name": "python",
   "nbconvert_exporter": "python",
   "pygments_lexer": "ipython3",
   "version": "3.7.6"
  }
 },
 "nbformat": 4,
 "nbformat_minor": 5
}
